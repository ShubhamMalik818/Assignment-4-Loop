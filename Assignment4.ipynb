{
 "cells": [
  {
   "cell_type": "code",
   "execution_count": null,
   "id": "63da9ace-f323-4748-8353-5dc3713d1b38",
   "metadata": {},
   "outputs": [],
   "source": [
    "1. Which keyword is used to create a function? Create a function to return a list of odd numbers in the range of 1 to 25."
   ]
  },
  {
   "cell_type": "code",
   "execution_count": null,
   "id": "55592d01-8337-44c6-8151-19823a5f9b94",
   "metadata": {},
   "outputs": [],
   "source": [
    "ANS- The def keyword is used to create a function."
   ]
  },
  {
   "cell_type": "code",
   "execution_count": 3,
   "id": "c107f592-0553-4744-bd07-40abe8a80531",
   "metadata": {},
   "outputs": [],
   "source": [
    "l=list(range(1,25))\n",
    "\n",
    "def test1(l):\n",
    "    for i in l:\n",
    "        if i%2!=0:\n",
    "            l.append(i)\n",
    "        \n",
    "        "
   ]
  },
  {
   "cell_type": "code",
   "execution_count": null,
   "id": "7d788eda-1e33-40e4-9a94-2ffe506e6ccd",
   "metadata": {},
   "outputs": [],
   "source": [
    "2. Why *args and **kwargs is used in some function? Create a function each for *args and **kwargs to demonstrate their use."
   ]
  },
  {
   "cell_type": "code",
   "execution_count": null,
   "id": "e699b62d-caf7-4bea-9077-3db6a7d51b76",
   "metadata": {},
   "outputs": [],
   "source": [
    "ANS- *args is used to enter the value in the function dynamically not manually.\n",
    "     **kwargs is similar to *args because it works in the same way except one reason that it is used for dict type functions where we have to add values for the keys and their values."
   ]
  },
  {
   "cell_type": "code",
   "execution_count": 1,
   "id": "a8fa75b6-e2b4-486d-a388-5a4521405f69",
   "metadata": {},
   "outputs": [],
   "source": [
    "#example for *args\n",
    "def test13(*args):\n",
    "    return args"
   ]
  },
  {
   "cell_type": "code",
   "execution_count": 3,
   "id": "cbb9cbfa-f932-4928-97b4-3ded18488038",
   "metadata": {},
   "outputs": [
    {
     "data": {
      "text/plain": [
       "(23, 54)"
      ]
     },
     "execution_count": 3,
     "metadata": {},
     "output_type": "execute_result"
    }
   ],
   "source": [
    "test13(23,54)"
   ]
  },
  {
   "cell_type": "code",
   "execution_count": 4,
   "id": "a9c2f3f2-4c88-49e2-a596-1d6659a41f55",
   "metadata": {},
   "outputs": [],
   "source": [
    "#example for **kwargs\n",
    "def test15(**kwargs):\n",
    "    return kwargs"
   ]
  },
  {
   "cell_type": "code",
   "execution_count": 5,
   "id": "4a3e40f4-c035-491c-af26-ac8737fb9cd8",
   "metadata": {},
   "outputs": [
    {
     "data": {
      "text/plain": [
       "{'a': [1, 2, 3, 4], 'b': 'malik', 'c': 23.467}"
      ]
     },
     "execution_count": 5,
     "metadata": {},
     "output_type": "execute_result"
    }
   ],
   "source": [
    "test15(a=[1,2,3,4],b='malik',c=23.467)"
   ]
  },
  {
   "cell_type": "code",
   "execution_count": null,
   "id": "6e1799ab-d46a-456f-9184-bd4dea71817c",
   "metadata": {},
   "outputs": [],
   "source": [
    "3. What is an iterator in python? Name the method used to initialise the iterator object and the method\n",
    "used for iteration. Use these methods to print the first five elements of the given list [2, 4, 6, 8, 10, 12, 14,16,18,20]"
   ]
  },
  {
   "cell_type": "code",
   "execution_count": null,
   "id": "57f22515-ffe4-4a2d-8c2a-0b70835023cc",
   "metadata": {},
   "outputs": [],
   "source": [
    "ANS- Iterator is a type of object or data which helps the user in iterating over the other objects. \n",
    "     Iterators are methods that iterate collections like lists, tuples, etc. Using an iterator method, we can loop through an object and return its elements.\n",
    "     \n",
    "    Two special methods, __iter__() and __next__() "
   ]
  },
  {
   "cell_type": "code",
   "execution_count": null,
   "id": "1448c52f-18f3-4153-928a-37cde896860d",
   "metadata": {},
   "outputs": [],
   "source": [
    "Here is a Python program that uses these methods to print the first five elements of the given list [2, 4, 6, 8, 10, 12, 14, 16, 18, 20]:"
   ]
  },
  {
   "cell_type": "code",
   "execution_count": 1,
   "id": "a3727910-525a-4bba-b3cc-a91cbd9be945",
   "metadata": {},
   "outputs": [
    {
     "name": "stdout",
     "output_type": "stream",
     "text": [
      "2\n",
      "4\n",
      "6\n",
      "8\n",
      "10\n"
     ]
    }
   ],
   "source": [
    "# Initializing the iterator object for the given list\n",
    "my_list = [2, 4, 6, 8, 10, 12, 14, 16, 18, 20]\n",
    "my_iterator = iter(my_list)\n",
    "\n",
    "# Iterating through the first five elements of the list using next() method\n",
    "for i in range(5):\n",
    "    print(next(my_iterator))\n"
   ]
  },
  {
   "cell_type": "code",
   "execution_count": null,
   "id": "d63b2839-31c2-4edd-bf6e-c699baea5afc",
   "metadata": {},
   "outputs": [],
   "source": [
    "4. What is generator function in python? Why yield keywords is used? Give an example of a generator function."
   ]
  },
  {
   "cell_type": "code",
   "execution_count": null,
   "id": "cc12c7cc-f139-4a9c-b33b-94317af24c55",
   "metadata": {},
   "outputs": [],
   "source": [
    "ANS- A generator is a function that returns an iterator that produces a sequence of values when iterated over. Generators are useful when we want to produce a large sequence of values, but we don't want to store all of them in memory at once.\n",
    "     Yield keyword is used to create a generator function."
   ]
  },
  {
   "cell_type": "code",
   "execution_count": 16,
   "id": "4a2db81e-4948-44d7-ab7b-5eaa39b52e05",
   "metadata": {},
   "outputs": [],
   "source": [
    "s='bruno'"
   ]
  },
  {
   "cell_type": "code",
   "execution_count": 17,
   "id": "993cde06-aa31-410d-8581-5d4538ee5c27",
   "metadata": {},
   "outputs": [],
   "source": [
    "s1=iter(s)"
   ]
  },
  {
   "cell_type": "code",
   "execution_count": 18,
   "id": "39b2ca54-7e1e-4957-83f8-dfbbe6b45897",
   "metadata": {},
   "outputs": [
    {
     "data": {
      "text/plain": [
       "'b'"
      ]
     },
     "execution_count": 18,
     "metadata": {},
     "output_type": "execute_result"
    }
   ],
   "source": [
    "next(s1)"
   ]
  },
  {
   "cell_type": "code",
   "execution_count": 19,
   "id": "4167815e-9c95-4a61-a735-9b98b24a2c8e",
   "metadata": {},
   "outputs": [
    {
     "data": {
      "text/plain": [
       "'r'"
      ]
     },
     "execution_count": 19,
     "metadata": {},
     "output_type": "execute_result"
    }
   ],
   "source": [
    "next(s1)"
   ]
  },
  {
   "cell_type": "code",
   "execution_count": 20,
   "id": "825b16ee-5902-4e69-ac5c-a479ea07d393",
   "metadata": {},
   "outputs": [
    {
     "data": {
      "text/plain": [
       "'u'"
      ]
     },
     "execution_count": 20,
     "metadata": {},
     "output_type": "execute_result"
    }
   ],
   "source": [
    "next(s1)"
   ]
  },
  {
   "cell_type": "code",
   "execution_count": 21,
   "id": "4dafa5fc-d5aa-4fac-b901-56973827f3b2",
   "metadata": {},
   "outputs": [
    {
     "data": {
      "text/plain": [
       "'n'"
      ]
     },
     "execution_count": 21,
     "metadata": {},
     "output_type": "execute_result"
    }
   ],
   "source": [
    "next(s1)"
   ]
  },
  {
   "cell_type": "code",
   "execution_count": 22,
   "id": "4f364505-9ea1-460b-bad9-0890bd6b2b82",
   "metadata": {},
   "outputs": [
    {
     "data": {
      "text/plain": [
       "'o'"
      ]
     },
     "execution_count": 22,
     "metadata": {},
     "output_type": "execute_result"
    }
   ],
   "source": [
    "next(s1)"
   ]
  },
  {
   "cell_type": "code",
   "execution_count": null,
   "id": "55a80e99-c5ef-4b91-bc5a-ed4a2f5a3323",
   "metadata": {},
   "outputs": [],
   "source": [
    "5. Create a generator function for prime numbers less than 1000. Use the next() method to print the first 20 prime numbers."
   ]
  },
  {
   "cell_type": "code",
   "execution_count": 28,
   "id": "6cacc3b8-df77-4c0d-8169-32a05d2ad5bc",
   "metadata": {},
   "outputs": [
    {
     "name": "stdout",
     "output_type": "stream",
     "text": [
      "2\n",
      "3\n",
      "5\n",
      "7\n",
      "11\n",
      "13\n",
      "17\n",
      "19\n",
      "23\n",
      "29\n",
      "31\n",
      "37\n",
      "41\n",
      "43\n",
      "47\n",
      "53\n",
      "59\n",
      "61\n",
      "67\n",
      "71\n"
     ]
    }
   ],
   "source": [
    "def prime_generator():\n",
    "    primes = []\n",
    "    for num in range(2, 1000):\n",
    "        for prime in primes:\n",
    "            if num % prime == 0:\n",
    "                break\n",
    "        else:\n",
    "            primes.append(num)\n",
    "            yield num\n",
    "\n",
    "prime_numbers = prime_generator()\n",
    "for i in range(20):\n",
    "    print(next(prime_numbers))\n"
   ]
  },
  {
   "cell_type": "code",
   "execution_count": null,
   "id": "defab08a-a7fd-49fb-b243-7401c157156c",
   "metadata": {},
   "outputs": [],
   "source": [
    "6. Write a python program to print the first 10 Fibonacci series using a while loop."
   ]
  },
  {
   "cell_type": "code",
   "execution_count": 7,
   "id": "146e7626-a644-41db-9d93-1d087c144b54",
   "metadata": {},
   "outputs": [
    {
     "name": "stdin",
     "output_type": "stream",
     "text": [
      "enter the number of element 10\n"
     ]
    },
    {
     "name": "stdout",
     "output_type": "stream",
     "text": [
      "0\n",
      "1\n",
      "1\n",
      "2\n",
      "3\n",
      "5\n",
      "8\n",
      "13\n",
      "21\n",
      "34\n"
     ]
    }
   ],
   "source": [
    "numbers=int(input('enter the number of element'))\n",
    "a,b=0,1\n",
    "counter=0\n",
    "while counter<numbers:\n",
    "    print(a)\n",
    "    c=a+b\n",
    "    a=b\n",
    "    b=c\n",
    "    counter=counter+1\n",
    "    "
   ]
  },
  {
   "cell_type": "code",
   "execution_count": null,
   "id": "82e0e1c3-6b4f-4440-b623-22c20db19c9f",
   "metadata": {},
   "outputs": [],
   "source": [
    "7. Write a list comprehension to iterate through the given string:'pwskills'.\n",
    "   Expected output:['p','w','s','k','i','l','l','s']"
   ]
  },
  {
   "cell_type": "code",
   "execution_count": 8,
   "id": "7e070781-8bf5-4183-8702-96e8a6d326dd",
   "metadata": {},
   "outputs": [
    {
     "data": {
      "text/plain": [
       "'p w s k i l l s'"
      ]
     },
     "execution_count": 8,
     "metadata": {},
     "output_type": "execute_result"
    }
   ],
   "source": [
    "string=\"pwskills\"\n",
    "\" \".join(string.replace(\" \",\"\"))"
   ]
  },
  {
   "cell_type": "code",
   "execution_count": null,
   "id": "4a9983ea-5a3d-42ff-aada-bf0d749d8beb",
   "metadata": {},
   "outputs": [],
   "source": [
    "8. Write a python program to check whether a given number is Palindrome or not using a while loop."
   ]
  },
  {
   "cell_type": "code",
   "execution_count": 3,
   "id": "36cef05b-7414-47c0-95d1-da9feb830d45",
   "metadata": {},
   "outputs": [
    {
     "name": "stdin",
     "output_type": "stream",
     "text": [
      "Enter a number:  818\n"
     ]
    },
    {
     "name": "stdout",
     "output_type": "stream",
     "text": [
      "The number is palindrome\n"
     ]
    }
   ],
   "source": [
    "num=int(input('Enter a number: '))\n",
    "temp=num\n",
    "rev=0\n",
    "while (num>0):\n",
    "    dig=num%10\n",
    "    rev=rev*10+dig\n",
    "    num=num//10\n",
    "if(temp==rev):\n",
    "    print('The number is palindrome')\n",
    "else:\n",
    "    print('Number is not a palindrome')\n"
   ]
  },
  {
   "cell_type": "code",
   "execution_count": null,
   "id": "76d358b4-e487-41e5-87e8-e82e342e8fab",
   "metadata": {},
   "outputs": [],
   "source": [
    "9. Write a code to print odd numbers from 1 to 100 using list comprehension."
   ]
  },
  {
   "cell_type": "code",
   "execution_count": 4,
   "id": "10a56bbe-162f-4a1e-a5eb-405c1c953d46",
   "metadata": {},
   "outputs": [],
   "source": [
    "l=list(range(1,101))"
   ]
  },
  {
   "cell_type": "code",
   "execution_count": 8,
   "id": "c5c5e2d5-4925-4740-b9b8-4198844b4d13",
   "metadata": {},
   "outputs": [
    {
     "name": "stdout",
     "output_type": "stream",
     "text": [
      "[1, 3, 5, 7, 9, 11, 13, 15, 17, 19, 21, 23, 25, 27, 29, 31, 33, 35, 37, 39, 41, 43, 45, 47, 49, 51, 53, 55, 57, 59, 61, 63, 65, 67, 69, 71, 73, 75, 77, 79, 81, 83, 85, 87, 89, 91, 93, 95, 97, 99]\n"
     ]
    }
   ],
   "source": [
    "l1=[i for i in l if i%2!=0]\n",
    "print(l1)"
   ]
  },
  {
   "cell_type": "code",
   "execution_count": 7,
   "id": "065457b9-f644-4c5e-aea2-53dd0d1b2f91",
   "metadata": {},
   "outputs": [
    {
     "name": "stdout",
     "output_type": "stream",
     "text": [
      "[1, 3, 5, 7, 9, 11, 13, 15, 17, 19, 21, 23, 25, 27, 29, 31, 33, 35, 37, 39, 41, 43, 45, 47, 49, 51, 53, 55, 57, 59, 61, 63, 65, 67, 69, 71, 73, 75, 77, 79, 81, 83, 85, 87, 89, 91, 93, 95, 97, 99]\n"
     ]
    }
   ],
   "source": [
    "odd_numbers = [num for num in range(1, 101) if num % 2 != 0]\n",
    "print(odd_numbers)\n"
   ]
  },
  {
   "cell_type": "code",
   "execution_count": null,
   "id": "43449ebc-d21e-4ecb-81f0-5c3c7cb1acbf",
   "metadata": {},
   "outputs": [],
   "source": []
  }
 ],
 "metadata": {
  "kernelspec": {
   "display_name": "Python 3 (ipykernel)",
   "language": "python",
   "name": "python3"
  },
  "language_info": {
   "codemirror_mode": {
    "name": "ipython",
    "version": 3
   },
   "file_extension": ".py",
   "mimetype": "text/x-python",
   "name": "python",
   "nbconvert_exporter": "python",
   "pygments_lexer": "ipython3",
   "version": "3.10.8"
  }
 },
 "nbformat": 4,
 "nbformat_minor": 5
}
